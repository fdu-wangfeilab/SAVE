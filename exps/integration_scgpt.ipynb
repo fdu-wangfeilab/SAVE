{
 "cells": [
  {
   "cell_type": "code",
   "execution_count": 1,
   "metadata": {},
   "outputs": [],
   "source": [
    "import scanpy as sc\n",
    "import numpy as np\n",
    "import torch\n",
    "\n",
    "import os,sys\n",
    "pwd = '/home/lijiahao/workbench/SAVE/'\n",
    "sys.path.append(pwd)\n",
    "os.chdir(pwd)\n",
    "\n",
    "from model.save_model import SAVE\n",
    "from model.utils.process_h5ad import batch_scale, preprocessing_rna"
   ]
  },
  {
   "cell_type": "code",
   "execution_count": 2,
   "metadata": {},
   "outputs": [],
   "source": [
    "# download the data via link: https://figshare.com/ndownloader/files/24539828"
   ]
  },
  {
   "cell_type": "code",
   "execution_count": 3,
   "metadata": {},
   "outputs": [],
   "source": [
    "adata = sc.read_h5ad('./data/PBMC_10K_results.h5ad')"
   ]
  },
  {
   "cell_type": "code",
   "execution_count": 4,
   "metadata": {},
   "outputs": [],
   "source": [
    "adata.X = adata.layers['X_log1p']"
   ]
  },
  {
   "cell_type": "code",
   "execution_count": 5,
   "metadata": {},
   "outputs": [
    {
     "name": "stderr",
     "output_type": "stream",
     "text": [
      "batch_scale: 100%|████████████████████████████████| 1/1 [00:00<00:00,  1.37it/s]\n",
      "batch_scale: 100%|████████████████████████████████| 1/1 [00:00<00:00,  3.16it/s]\n"
     ]
    }
   ],
   "source": [
    "adata, _ = batch_scale(adata)"
   ]
  },
  {
   "cell_type": "code",
   "execution_count": 6,
   "metadata": {},
   "outputs": [],
   "source": [
    "adata.obs['batch'] = adata.obs['batch'].astype('category')"
   ]
  },
  {
   "cell_type": "code",
   "execution_count": 11,
   "metadata": {},
   "outputs": [],
   "source": [
    "device = torch.device('cuda:0')\n",
    "seed = 1202\n",
    "kwargs = {\n",
    "    \"device\": device,\n",
    "    \"seed\": seed,\n",
    "    \"is_data_scaled\": True,\n",
    "}\n",
    "import yaml\n",
    "\n",
    "with open(pwd + \"/model_setting.yml\", \"r\") as f:\n",
    "    setting = yaml.safe_load(f)\n",
    "\n",
    "kwargs.update(setting[\"SAVE-B\"][\"train\"])\n",
    "kwargs.update(setting[\"SAVE-B\"][\"model\"])"
   ]
  },
  {
   "cell_type": "code",
   "execution_count": null,
   "metadata": {},
   "outputs": [],
   "source": [
    "from model.save_model import SAVE\n",
    "\n",
    "save_model = SAVE(\n",
    "    adata=adata.copy(),\n",
    "    is_initialized=True,\n",
    "    condition_cols=['batch'],\n",
    "    **kwargs,\n",
    "    )\n"
   ]
  },
  {
   "cell_type": "code",
   "execution_count": null,
   "metadata": {},
   "outputs": [],
   "source": [
    "save_model.train(**kwargs)\n",
    "save_model.save_ckpt('ckpt/PBMC_10K.pt')"
   ]
  },
  {
   "cell_type": "code",
   "execution_count": null,
   "metadata": {},
   "outputs": [],
   "source": [
    "save_model.load_ckpt('ckpt/PBMC_10K.pt')"
   ]
  },
  {
   "cell_type": "code",
   "execution_count": null,
   "metadata": {},
   "outputs": [],
   "source": [
    "latent = save_model.get_latent()"
   ]
  },
  {
   "cell_type": "code",
   "execution_count": 16,
   "metadata": {},
   "outputs": [],
   "source": [
    "adata_test = sc.read_h5ad('./data/PBMC_10K_test.h5ad')\n",
    "adata_test.X = adata_test.layers['X_log1p']\n",
    "adata_test.obs['batch'] = adata_test.obs['batch'].astype('category')"
   ]
  },
  {
   "cell_type": "code",
   "execution_count": null,
   "metadata": {},
   "outputs": [],
   "source": [
    "adata_test, _ = batch_scale(adata_test)"
   ]
  },
  {
   "cell_type": "code",
   "execution_count": null,
   "metadata": {},
   "outputs": [],
   "source": [
    "save_model.zero_shot_embeding(input_adata=adata_test, is_data_scaled=True, batch_size=256)"
   ]
  },
  {
   "cell_type": "code",
   "execution_count": null,
   "metadata": {},
   "outputs": [],
   "source": [
    "adata_test.obs"
   ]
  },
  {
   "cell_type": "code",
   "execution_count": null,
   "metadata": {},
   "outputs": [],
   "source": [
    "sc.set_figure_params(dpi=100)\n",
    "sc.pp.neighbors(adata_test, use_rep=\"SAVE\")\n",
    "sc.tl.umap(adata_test)\n",
    "sc.pl.umap(adata_test, color=['batch', 'celltype'])"
   ]
  },
  {
   "cell_type": "code",
   "execution_count": 32,
   "metadata": {},
   "outputs": [],
   "source": [
    "adata_whole = sc.concat([adata, adata_test])"
   ]
  },
  {
   "cell_type": "code",
   "execution_count": null,
   "metadata": {},
   "outputs": [],
   "source": [
    "save_model.device = torch.device('cpu')\n",
    "save_model.zero_shot_embeding(adata_whole, is_data_scaled=True)"
   ]
  },
  {
   "cell_type": "markdown",
   "metadata": {},
   "source": [
    "### scIB evaluation"
   ]
  },
  {
   "cell_type": "code",
   "execution_count": 7,
   "metadata": {},
   "outputs": [],
   "source": [
    "from scib_metrics.benchmark import Benchmarker"
   ]
  },
  {
   "cell_type": "code",
   "execution_count": 8,
   "metadata": {},
   "outputs": [],
   "source": [
    "sc.pp.pca(adata)\n",
    "adata.obsm['Unintegraged'] = adata.obsm['X_pca']"
   ]
  },
  {
   "cell_type": "code",
   "execution_count": 10,
   "metadata": {},
   "outputs": [
    {
     "name": "stderr",
     "output_type": "stream",
     "text": [
      "/mnt/sdc/lijiahao/miniconda3/envs/SAVE/lib/python3.9/site-packages/scib/metrics/metrics.py:293: DeprecationWarning: Call to deprecated function (or staticmethod) opt_louvain.\n",
      "  res_max, nmi_max, nmi_all = opt_louvain(\n"
     ]
    },
    {
     "name": "stdout",
     "output_type": "stream",
     "text": [
      "Warning: cluster key cluster already exists in adata.obs and will be overwritten\n",
      "NMI...\n",
      "ARI...\n",
      "Silhouette score...\n",
      "PC regression...\n",
      "Graph connectivity...\n"
     ]
    }
   ],
   "source": [
    "import scib\n",
    "results = scib.metrics.metrics(\n",
    "    adata,\n",
    "    adata_int=adata,\n",
    "    batch_key='batch',\n",
    "    label_key='celltype',\n",
    "    embed=\"X_scGPT\",\n",
    "    isolated_labels_asw_=False,\n",
    "    silhouette_=True,\n",
    "    hvg_score_=False,\n",
    "    graph_conn_=True,\n",
    "    pcr_=True,\n",
    "    isolated_labels_f1_=False,\n",
    "    trajectory_=False,\n",
    "    nmi_=True,  # use the clustering, bias to the best matching\n",
    "    ari_=True,  # use the clustering, bias to the best matching\n",
    "    cell_cycle_=False,\n",
    "    kBET_=False,  # kBET return nan sometimes, need to examine\n",
    "    ilisi_=False,\n",
    "    clisi_=False,\n",
    ")"
   ]
  },
  {
   "cell_type": "code",
   "execution_count": 11,
   "metadata": {},
   "outputs": [
    {
     "data": {
      "text/html": [
       "<div>\n",
       "<style scoped>\n",
       "    .dataframe tbody tr th:only-of-type {\n",
       "        vertical-align: middle;\n",
       "    }\n",
       "\n",
       "    .dataframe tbody tr th {\n",
       "        vertical-align: top;\n",
       "    }\n",
       "\n",
       "    .dataframe thead th {\n",
       "        text-align: right;\n",
       "    }\n",
       "</style>\n",
       "<table border=\"1\" class=\"dataframe\">\n",
       "  <thead>\n",
       "    <tr style=\"text-align: right;\">\n",
       "      <th></th>\n",
       "      <th>0</th>\n",
       "    </tr>\n",
       "  </thead>\n",
       "  <tbody>\n",
       "    <tr>\n",
       "      <th>NMI_cluster/label</th>\n",
       "      <td>0.835043</td>\n",
       "    </tr>\n",
       "    <tr>\n",
       "      <th>ARI_cluster/label</th>\n",
       "      <td>0.866458</td>\n",
       "    </tr>\n",
       "    <tr>\n",
       "      <th>ASW_label</th>\n",
       "      <td>0.754482</td>\n",
       "    </tr>\n",
       "    <tr>\n",
       "      <th>ASW_label/batch</th>\n",
       "      <td>0.949802</td>\n",
       "    </tr>\n",
       "    <tr>\n",
       "      <th>PCR_batch</th>\n",
       "      <td>0.647313</td>\n",
       "    </tr>\n",
       "    <tr>\n",
       "      <th>cell_cycle_conservation</th>\n",
       "      <td>NaN</td>\n",
       "    </tr>\n",
       "    <tr>\n",
       "      <th>isolated_label_F1</th>\n",
       "      <td>NaN</td>\n",
       "    </tr>\n",
       "    <tr>\n",
       "      <th>isolated_label_silhouette</th>\n",
       "      <td>NaN</td>\n",
       "    </tr>\n",
       "    <tr>\n",
       "      <th>graph_conn</th>\n",
       "      <td>0.932286</td>\n",
       "    </tr>\n",
       "    <tr>\n",
       "      <th>kBET</th>\n",
       "      <td>NaN</td>\n",
       "    </tr>\n",
       "    <tr>\n",
       "      <th>iLISI</th>\n",
       "      <td>NaN</td>\n",
       "    </tr>\n",
       "    <tr>\n",
       "      <th>cLISI</th>\n",
       "      <td>NaN</td>\n",
       "    </tr>\n",
       "    <tr>\n",
       "      <th>hvg_overlap</th>\n",
       "      <td>NaN</td>\n",
       "    </tr>\n",
       "    <tr>\n",
       "      <th>trajectory</th>\n",
       "      <td>NaN</td>\n",
       "    </tr>\n",
       "  </tbody>\n",
       "</table>\n",
       "</div>"
      ],
      "text/plain": [
       "                                  0\n",
       "NMI_cluster/label          0.835043\n",
       "ARI_cluster/label          0.866458\n",
       "ASW_label                  0.754482\n",
       "ASW_label/batch            0.949802\n",
       "PCR_batch                  0.647313\n",
       "cell_cycle_conservation         NaN\n",
       "isolated_label_F1               NaN\n",
       "isolated_label_silhouette       NaN\n",
       "graph_conn                 0.932286\n",
       "kBET                            NaN\n",
       "iLISI                           NaN\n",
       "cLISI                           NaN\n",
       "hvg_overlap                     NaN\n",
       "trajectory                      NaN"
      ]
     },
     "execution_count": 11,
     "metadata": {},
     "output_type": "execute_result"
    }
   ],
   "source": [
    "results"
   ]
  },
  {
   "cell_type": "code",
   "execution_count": null,
   "metadata": {},
   "outputs": [],
   "source": []
  }
 ],
 "metadata": {
  "kernelspec": {
   "display_name": "save-stable",
   "language": "python",
   "name": "python3"
  },
  "language_info": {
   "codemirror_mode": {
    "name": "ipython",
    "version": 3
   },
   "file_extension": ".py",
   "mimetype": "text/x-python",
   "name": "python",
   "nbconvert_exporter": "python",
   "pygments_lexer": "ipython3",
   "version": "3.9.16"
  }
 },
 "nbformat": 4,
 "nbformat_minor": 2
}
