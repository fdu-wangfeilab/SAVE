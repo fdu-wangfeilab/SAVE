{
 "cells": [
  {
   "cell_type": "code",
   "execution_count": 22,
   "metadata": {},
   "outputs": [],
   "source": [
    "import os\n",
    "import sys\n",
    "import scanpy as sc\n",
    "pwd = '/home/lijiahao/workbench/SAVE'\n",
    "os.chdir(pwd)\n",
    "sys.path.append(pwd)"
   ]
  },
  {
   "cell_type": "code",
   "execution_count": 23,
   "metadata": {},
   "outputs": [],
   "source": [
    "from model.utils.process_h5ad import preprocessing_rna, batch_scale"
   ]
  },
  {
   "cell_type": "code",
   "execution_count": null,
   "metadata": {},
   "outputs": [],
   "source": [
    "# data can be download at: https://datasets.cellxgene.cziscience.com/99040b08-7e1a-4d81-911c-4d2fd2335757.h5ad\n",
    "adata = sc.read_h5ad('data/cancer_lung/cancer_lung.h5ad')"
   ]
  },
  {
   "cell_type": "code",
   "execution_count": null,
   "metadata": {},
   "outputs": [],
   "source": [
    "cond_cols = ['assay', 'cell_type', 'development_stage', 'disease', 'uicc_stage']\n",
    "adata.obs['batch'] = adata.obs['assay']"
   ]
  },
  {
   "cell_type": "code",
   "execution_count": null,
   "metadata": {},
   "outputs": [],
   "source": [
    "adata.obs['development_stage']"
   ]
  },
  {
   "cell_type": "code",
   "execution_count": null,
   "metadata": {},
   "outputs": [],
   "source": [
    "test_cond1 = {'development_stage': '53-year-old human stage', 'uicc_stage': 'IV'}\n",
    "\n",
    "test_cond2 = {'development_stage': '78-year-old human stage', 'uicc_stage': 'III'}"
   ]
  },
  {
   "cell_type": "code",
   "execution_count": null,
   "metadata": {},
   "outputs": [],
   "source": [
    "adata = preprocessing_rna(adata, is_batch_scale=False)\n",
    "adata.write_h5ad('data/cancer_lung/cancer_lung_hvg.h5ad')"
   ]
  },
  {
   "cell_type": "code",
   "execution_count": null,
   "metadata": {},
   "outputs": [],
   "source": [
    "from functools import reduce\n",
    "import operator\n",
    "\n",
    "def get_cond_data(adata, input_cond):\n",
    "    msks = [adata.obs[x[0]] == x[1] for x in input_cond.items()]\n",
    "    total_msk = reduce(operator.and_, msks)\n",
    "    return adata[total_msk].copy()"
   ]
  },
  {
   "cell_type": "code",
   "execution_count": null,
   "metadata": {},
   "outputs": [],
   "source": [
    "msks_1 = [adata.obs[x[0]] == x[1] for x in test_cond1.items()]\n",
    "total_msk1 = reduce(operator.and_, msks_1)\n",
    "msks_2 = [adata.obs[x[0]] == x[1] for x in test_cond2.items()]\n",
    "total_msk2 = reduce(operator.and_, msks_2)"
   ]
  },
  {
   "cell_type": "code",
   "execution_count": null,
   "metadata": {},
   "outputs": [],
   "source": [
    "total_test_msk = total_msk1 | total_msk2"
   ]
  },
  {
   "cell_type": "code",
   "execution_count": null,
   "metadata": {},
   "outputs": [],
   "source": [
    "test_data = adata[total_test_msk].copy()\n",
    "train_data = adata[~total_test_msk].copy()"
   ]
  },
  {
   "cell_type": "code",
   "execution_count": null,
   "metadata": {},
   "outputs": [],
   "source": [
    "test_data.write_h5ad('data/cancer_lung/cancer_lung_hvg_test.h5ad')\n",
    "train_data.write_h5ad('data/cancer_lung/cancer_lung_hvg_train.h5ad')"
   ]
  }
 ],
 "metadata": {
  "kernelspec": {
   "display_name": "save-stable",
   "language": "python",
   "name": "python3"
  },
  "language_info": {
   "codemirror_mode": {
    "name": "ipython",
    "version": 3
   },
   "file_extension": ".py",
   "mimetype": "text/x-python",
   "name": "python",
   "nbconvert_exporter": "python",
   "pygments_lexer": "ipython3",
   "version": "3.9.16"
  }
 },
 "nbformat": 4,
 "nbformat_minor": 2
}
