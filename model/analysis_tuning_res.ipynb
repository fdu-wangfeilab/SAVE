{
 "cells": [
  {
   "cell_type": "code",
   "execution_count": 1,
   "metadata": {},
   "outputs": [],
   "source": [
    "from ray import tune\n",
    "import os"
   ]
  },
  {
   "cell_type": "code",
   "execution_count": 2,
   "metadata": {},
   "outputs": [],
   "source": [
    "pwd =  '/home/lijiahao/workbench/SAVE'\n",
    "import sys\n",
    "sys.path.append(pwd)"
   ]
  },
  {
   "cell_type": "code",
   "execution_count": 3,
   "metadata": {},
   "outputs": [],
   "source": [
    "from exps.SAVE_mi_tune import do_train\n",
    "import seaborn as sns"
   ]
  },
  {
   "cell_type": "code",
   "execution_count": 4,
   "metadata": {},
   "outputs": [
    {
     "data": {
      "text/plain": [
       "['do_train_2024-10-02_21-52-00',\n",
       " 'do_train_2024-10-02_22-06-12',\n",
       " 'do_train_2024-10-02_22-06-45',\n",
       " 'do_train_2024-10-02_22-08-04',\n",
       " 'do_train_2024-10-02_22-11-03',\n",
       " 'do_train_2024-10-02_22-13-20',\n",
       " 'do_train_2024-10-02_22-14-28',\n",
       " 'do_train_2024-10-02_22-16-02',\n",
       " 'do_train_2024-10-02_22-16-57',\n",
       " 'do_train_2024-10-02_22-18-04',\n",
       " 'do_train_2024-10-02_22-25-44',\n",
       " 'do_train_2024-10-02_22-26-39',\n",
       " 'do_train_2024-10-02_22-27-40',\n",
       " 'do_train_2024-10-02_22-29-47',\n",
       " 'do_train_2024-10-02_22-31-12',\n",
       " 'do_train_2024-10-02_22-32-10',\n",
       " 'do_train_2024-10-02_22-34-13',\n",
       " 'do_train_2024-10-02_22-34-49',\n",
       " 'do_train_2024-10-02_22-38-00',\n",
       " 'do_train_2024-10-06_18-35-01',\n",
       " 'do_train_2024-10-06_18-36-09',\n",
       " 'do_train_2024-10-06_18-36-43',\n",
       " 'do_train_2024-10-06_19-35-38',\n",
       " 'do_train_2024-10-06_19-37-14',\n",
       " 'do_train_2024-10-06_19-42-17',\n",
       " 'do_train_2024-10-06_19-57-23',\n",
       " 'do_train_2024-10-06_20-03-12',\n",
       " 'do_train_2024-10-06_20-04-34',\n",
       " 'do_train_2024-10-09_12-42-58',\n",
       " 'do_train_2024-10-09_12-44-55',\n",
       " 'do_train_2024-10-15_17-21-24',\n",
       " 'do_train_2024-10-15_17-22-00',\n",
       " 'do_train_2024-10-15_17-25-32',\n",
       " 'do_train_2024-10-15_17-27-55',\n",
       " 'do_train_2024-10-15_17-29-16',\n",
       " 'do_train_2024-10-15_17-30-16',\n",
       " 'do_train_2024-10-15_17-32-17',\n",
       " 'do_train_2024-10-15_17-34-54',\n",
       " 'do_train_2024-10-15_17-35-48',\n",
       " 'do_train_2024-10-15_17-37-54',\n",
       " 'do_train_2024-10-16_08-58-44',\n",
       " 'do_train_2024-10-16_08-59-22',\n",
       " 'do_train_2024-10-16_10-17-27',\n",
       " 'do_train_2024-10-16_16-09-03',\n",
       " 'do_train_2024-10-16_16-10-53',\n",
       " 'do_train_2024-10-16_17-36-54',\n",
       " 'do_train_2024-10-16_17-38-10',\n",
       " 'do_train_2024-10-16_21-39-02',\n",
       " 'do_train_2024-10-16_22-25-34',\n",
       " 'do_train_2024-10-17_10-32-41',\n",
       " 'do_train_2024-10-17_10-34-22',\n",
       " 'do_train_2024-10-17_10-35-58',\n",
       " 'do_train_2024-10-17_10-37-31',\n",
       " 'do_train_2024-10-17_21-16-10',\n",
       " 'do_train_2024-10-17_21-21-07',\n",
       " 'do_train_2024-10-17_21-22-38',\n",
       " 'do_train_2024-10-17_21-23-52',\n",
       " 'do_train_2024-10-17_21-28-53',\n",
       " 'do_train_2024-10-17_21-31-21',\n",
       " 'do_train_2024-10-17_21-34-57',\n",
       " 'do_train_2024-10-17_21-41-57',\n",
       " 'do_train_2024-10-17_21-52-18',\n",
       " 'do_train_2024-10-17_21-55-20',\n",
       " 'do_train_2024-10-17_21-57-15',\n",
       " 'do_train_2024-10-17_21-59-12',\n",
       " 'do_train_2024-10-17_22-05-49',\n",
       " 'do_train_2024-10-17_22-35-06',\n",
       " 'do_train_2024-10-17_22-36-19',\n",
       " 'do_train_2024-10-18_12-15-59',\n",
       " 'do_train_2024-10-18_12-55-36',\n",
       " 'do_train_2024-10-18_17-01-23',\n",
       " 'do_train_2024-10-19_18-50-44',\n",
       " 'do_train_2024-10-19_18-52-03',\n",
       " 'do_train_2024-10-19_18-57-06',\n",
       " 'do_train_2024-10-19_18-58-16',\n",
       " 'do_train_2024-10-19_22-01-23',\n",
       " 'do_train_2024-10-20_14-20-36',\n",
       " 'do_train_2024-10-20_14-21-48',\n",
       " 'do_train_2024-10-20_15-27-47',\n",
       " 'do_train_2024-10-20_15-28-49',\n",
       " 'do_train_2024-10-20_15-34-38',\n",
       " 'do_train_2024-10-20_16-40-30',\n",
       " 'do_train_2024-10-20_16-41-58',\n",
       " 'do_train_2024-10-21_15-35-07',\n",
       " 'do_train_2024-10-21_15-36-23',\n",
       " 'do_train_2024-10-21_15-37-11',\n",
       " 'do_train_2024-10-21_15-47-07',\n",
       " 'do_train_2024-10-21_16-44-10',\n",
       " 'do_train_2024-10-21_22-03-46',\n",
       " 'do_train_2024-10-21_22-04-45',\n",
       " 'do_train_2024-10-21_22-05-23',\n",
       " 'do_train_2024-10-21_22-06-27',\n",
       " 'do_train_2024-10-21_22-06-59',\n",
       " 'do_train_2024-10-21_22-08-34']"
      ]
     },
     "execution_count": 4,
     "metadata": {},
     "output_type": "execute_result"
    }
   ],
   "source": [
    "train_func_name = 'do_train'\n",
    "ray_res_dir = '/home/lijiahao/ray_results'\n",
    "proj_dates = sorted([x for x in os.listdir(ray_res_dir) if train_func_name in x])\n",
    "proj_dates"
   ]
  },
  {
   "cell_type": "code",
   "execution_count": 5,
   "metadata": {},
   "outputs": [],
   "source": [
    "def get_tuning_res(\n",
    "    experiment_path: str = \"/home/ljh/ray_results/save_train_2023-07-22_09-47-11\",\n",
    "    trainable=None,\n",
    "):\n",
    "    restore_tuner = tune.Tuner.restore(experiment_path, trainable=trainable)\n",
    "    resotre_grid = restore_tuner.get_results()\n",
    "    return resotre_grid.get_dataframe()"
   ]
  },
  {
   "cell_type": "code",
   "execution_count": 6,
   "metadata": {},
   "outputs": [
    {
     "name": "stderr",
     "output_type": "stream",
     "text": [
      "The trainable will be overwritten - this should be done with caution: it's possible to supply an incompatible trainable, and there are no guarantees that the resumed experiment will continue successfully. If you encounter errors during training, ensure that you are passing in the same trainable that was passed into the initial `Tuner` object.\n"
     ]
    }
   ],
   "source": [
    "train_func = do_train\n",
    "exp_date = proj_dates[-12]\n",
    "experiment_path = f\"/home/lijiahao/ray_results/{exp_date}\"\n",
    "res_df = get_tuning_res(experiment_path=experiment_path, trainable=train_func)"
   ]
  },
  {
   "cell_type": "code",
   "execution_count": 7,
   "metadata": {},
   "outputs": [
    {
     "data": {
      "text/plain": [
       "'do_train_2024-10-20_16-41-58'"
      ]
     },
     "execution_count": 7,
     "metadata": {},
     "output_type": "execute_result"
    }
   ],
   "source": [
    "exp_date"
   ]
  },
  {
   "cell_type": "code",
   "execution_count": 7,
   "metadata": {},
   "outputs": [],
   "source": [
    "select_cols = 'loss config/enc_dim config/lr'.split()"
   ]
  },
  {
   "cell_type": "code",
   "execution_count": null,
   "metadata": {},
   "outputs": [],
   "source": [
    "config_df = res_df[select_cols]"
   ]
  },
  {
   "cell_type": "code",
   "execution_count": null,
   "metadata": {},
   "outputs": [],
   "source": [
    "# small lr make good res\n",
    "ax = sns.heatmap(config_df.corr(), annot=True, fmt='.2f')"
   ]
  },
  {
   "cell_type": "code",
   "execution_count": 7,
   "metadata": {},
   "outputs": [],
   "source": [
    "import pandas as pd\n",
    "df = pd.read_csv('/home/lijiahao/workbench/SAVE/result/SAVE_1018_cov_recon_opt.csv')"
   ]
  },
  {
   "cell_type": "code",
   "execution_count": 11,
   "metadata": {},
   "outputs": [
    {
     "data": {
      "text/plain": [
       "'0.6663333583676287'"
      ]
     },
     "execution_count": 11,
     "metadata": {},
     "output_type": "execute_result"
    }
   ],
   "source": [
    "df['Total'][0]"
   ]
  },
  {
   "cell_type": "markdown",
   "metadata": {},
   "source": [
    "### look into one experiment res"
   ]
  },
  {
   "cell_type": "code",
   "execution_count": null,
   "metadata": {},
   "outputs": [],
   "source": [
    "import os\n",
    "os.chdir('/home/lijiahao/workbench/sc-save/')"
   ]
  },
  {
   "cell_type": "code",
   "execution_count": null,
   "metadata": {},
   "outputs": [],
   "source": [
    "def get_single_tune_exp_id(ray_res_dir = '/home/lijiahao/ray_results', exp_date:str ='save_train_2023-07-20_20-39-03', trainable_name:str='save_train' ):\n",
    "    single_tune_res = os.path.join(ray_res_dir, exp_date)\n",
    "    tune_examples = [f for f in os.listdir(single_tune_res) if os.path.isdir(os.path.join(single_tune_res, f))]\n",
    "    path_id_dict = {}\n",
    "    for example in tune_examples:\n",
    "        if example.startswith(trainable_name):\n",
    "            id = example[len(trainable_name):].split('_')[1]\n",
    "            path_id_dict[id] = os.path.join(ray_res_dir, exp_date, example)\n",
    "        else:\n",
    "            print('not correct trainable name')\n",
    "    return path_id_dict\n",
    "\n",
    "import matplotlib.pyplot as plt\n",
    "import json\n",
    "\n",
    "def plot_eval_trend(res_jsons:list, eval_key:str ='clu_eval', x_lim=None):\n",
    "    eval_res = [j[eval_key] for j in res_jsons]\n",
    "    if x_lim is not None:\n",
    "        plt.xlim(x_lim) \n",
    "    plt.ylabel(eval_key)\n",
    "    plt.xlabel('iteration')\n",
    "    plt.plot(eval_res)\n",
    "\n",
    "def get_example_res(tune_dic:dict, exp_id:str):\n",
    "    with open(os.path.join(tune_dic[exp_id], 'result.json'),'r', encoding='utf-8') as f:\n",
    "        lines = f.readlines()\n",
    "    res_jsons = [json.loads(l.strip()) for l in lines]\n",
    "    return res_jsons"
   ]
  },
  {
   "cell_type": "code",
   "execution_count": null,
   "metadata": {},
   "outputs": [],
   "source": [
    "tune_dic = get_single_tune_exp_id(exp_date=exp_date)"
   ]
  },
  {
   "cell_type": "code",
   "execution_count": null,
   "metadata": {},
   "outputs": [],
   "source": [
    "tune_dic.keys()"
   ]
  },
  {
   "cell_type": "code",
   "execution_count": null,
   "metadata": {},
   "outputs": [],
   "source": [
    "res_jsons = get_example_res(tune_dic=tune_dic,\n",
    "                            exp_id='c7d1dbdc')\n",
    "plot_eval_trend(res_jsons=res_jsons,\n",
    "                eval_key='scib_eval',\n",
    "                x_lim=[0,100])"
   ]
  },
  {
   "cell_type": "code",
   "execution_count": null,
   "metadata": {},
   "outputs": [],
   "source": [
    "[j['scib_eval'] for j in res_jsons]"
   ]
  },
  {
   "cell_type": "markdown",
   "metadata": {},
   "source": [
    "### record res"
   ]
  },
  {
   "cell_type": "code",
   "execution_count": null,
   "metadata": {},
   "outputs": [],
   "source": [
    "import numpy as np\n",
    "import pandas as pd"
   ]
  },
  {
   "cell_type": "code",
   "execution_count": null,
   "metadata": {},
   "outputs": [],
   "source": [
    "res = np.load('/home/lijiahao/workbench/sc-save/tune_data/lung_atlas_res_rec.npy')"
   ]
  },
  {
   "cell_type": "code",
   "execution_count": null,
   "metadata": {},
   "outputs": [],
   "source": [
    "scib_res_df = pd.DataFrame(data=res, columns=['scib_res', 'recon_loss', 'kl_loss'])"
   ]
  },
  {
   "cell_type": "code",
   "execution_count": null,
   "metadata": {},
   "outputs": [],
   "source": [
    "scib_res_df['total_loss'] = scib_res_df['recon_loss'] + scib_res_df['recon_loss']"
   ]
  },
  {
   "cell_type": "code",
   "execution_count": null,
   "metadata": {},
   "outputs": [],
   "source": [
    "import matplotlib.pyplot as plt"
   ]
  },
  {
   "cell_type": "code",
   "execution_count": null,
   "metadata": {},
   "outputs": [],
   "source": []
  },
  {
   "cell_type": "code",
   "execution_count": null,
   "metadata": {},
   "outputs": [],
   "source": [
    "plot_data = scib_res_df.iloc[60:80,:]\n",
    "epochs = plot_data.index\n",
    "fig = plt.figure(figsize=(12,12))\n",
    "ax = plt.subplot(4,1,1)\n",
    "plt.plot(epochs, plot_data['scib_res'])\n",
    "plt.ylabel('scib_res')\n",
    "\n",
    "ax = plt.subplot(4,1,2)\n",
    "plt.plot(epochs, plot_data['recon_loss'])\n",
    "plt.ylabel('recon_loss')\n",
    "\n",
    "ax = plt.subplot(4,1,3)\n",
    "plt.plot(epochs, plot_data['kl_loss'])\n",
    "plt.ylabel('kl_loss')\n",
    "\n",
    "\n",
    "ax = plt.subplot(4,1,4)\n",
    "plt.plot(epochs, plot_data['total_loss'])\n",
    "plt.ylabel('total_loss')"
   ]
  },
  {
   "cell_type": "code",
   "execution_count": null,
   "metadata": {},
   "outputs": [],
   "source": [
    "sns.heatmap(scib_res_df.iloc[:,:].corr(), annot=True, linewidths=.5)"
   ]
  },
  {
   "cell_type": "code",
   "execution_count": null,
   "metadata": {},
   "outputs": [],
   "source": []
  }
 ],
 "metadata": {
  "kernelspec": {
   "display_name": "SAVE",
   "language": "python",
   "name": "python3"
  },
  "language_info": {
   "codemirror_mode": {
    "name": "ipython",
    "version": 3
   },
   "file_extension": ".py",
   "mimetype": "text/x-python",
   "name": "python",
   "nbconvert_exporter": "python",
   "pygments_lexer": "ipython3",
   "version": "3.9.16"
  },
  "orig_nbformat": 4
 },
 "nbformat": 4,
 "nbformat_minor": 2
}
